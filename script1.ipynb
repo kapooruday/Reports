{
 "cells": [
  {
   "cell_type": "code",
   "execution_count": 220,
   "metadata": {},
   "outputs": [],
   "source": [
    "import pandas\n",
    "from datetime import datetime, timedelta\n",
    "from bokeh.plotting import figure,output_file,show\n",
    "\n",
    "df = pandas.read_excel(\"Incidents.xlsx\")\n",
    "\n"
   ]
  },
  {
   "cell_type": "code",
   "execution_count": 53,
   "metadata": {},
   "outputs": [
    {
     "name": "stdout",
     "output_type": "stream",
     "text": [
      "7\n"
     ]
    }
   ],
   "source": [
    "a = d10 - closed_on[0].to_pydatetime()\n",
    "print(int(a.days))"
   ]
  },
  {
   "cell_type": "code",
   "execution_count": 221,
   "metadata": {},
   "outputs": [],
   "source": [
    "days = 9\n",
    "#to_date = datetime(2021,5,10)\n",
    "to_date = datetime.today() - timedelta(days=1)\n",
    "\n",
    "date_list =[]\n",
    "average_list=[]\n",
    "average_dict ={}\n",
    "from_date = to_date - timedelta(days=days)\n",
    "delta = timedelta(days=1)\n",
    "while from_date < to_date:\n",
    "    total_age = 0\n",
    "    count = 0\n",
    "\n",
    "    for nu,cr,cl in zip(df[\"Number\"],df[\"Created On\"],df[\"Closed On\"]):\n",
    "        if (from_date < cl  or pandas.isna(cl)) and from_date > cr:\n",
    "            total_age += int((from_date-cr).days)\n",
    "            count += 1\n",
    "    from_date += delta\n",
    "    if count == 0:\n",
    "        average_age = 0\n",
    "    else:\n",
    "        average_age = total_age/count\n",
    "    date_list.append(from_date)\n",
    "    average_list.append(average_age)\n",
    "    average_dict['Date'] = from_date\n",
    "    average_dict['Average Age'] = average_age\n",
    "dump_list = [date_list,average_list]  \n",
    "\n",
    "dump_frame = pandas.DataFrame(dump_list).transpose()\n",
    "dump_frame.columns=['Date','Average Age']   \n",
    "\n",
    "dump_frame.to_excel(\"Average Age.xlsx\")\n"
   ]
  },
  {
   "cell_type": "code",
   "execution_count": 222,
   "metadata": {},
   "outputs": [],
   "source": [
    "output_file(\"Average Age.html\")\n",
    "f = figure(plot_width=500, plot_height=250, x_axis_type='datetime')\n",
    "f.title.text = \"Trend of Average Age of Open Incidents\"\n",
    "f.title.text_color = \"Brown\"\n",
    "f.title.text_font = \"times\"\n",
    "f.title.text_font_style = \"bold\"\n",
    "f.yaxis.minor_tick_line_color = \"Yellow\"\n",
    "f.xaxis.axis_label = \"Date\"\n",
    "f.yaxis.axis_label = \"Average Age\"\n",
    "\n",
    "excel_frame = pandas.read_excel(\"Average Age.xlsx\",parse_dates=[\"Date\"])\n",
    "f.line(excel_frame[\"Date\"],excel_frame[\"Average Age\"])\n",
    "\n",
    "show(f)"
   ]
  },
  {
   "cell_type": "code",
   "execution_count": null,
   "metadata": {},
   "outputs": [],
   "source": []
  }
 ],
 "metadata": {
  "kernelspec": {
   "display_name": "Python 3",
   "language": "python",
   "name": "python3"
  },
  "language_info": {
   "codemirror_mode": {
    "name": "ipython",
    "version": 3
   },
   "file_extension": ".py",
   "mimetype": "text/x-python",
   "name": "python",
   "nbconvert_exporter": "python",
   "pygments_lexer": "ipython3",
   "version": "3.8.1"
  }
 },
 "nbformat": 4,
 "nbformat_minor": 4
}
